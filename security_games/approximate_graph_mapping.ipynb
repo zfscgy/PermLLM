{
 "cells": [
  {
   "cell_type": "code",
   "execution_count": 1,
   "metadata": {},
   "outputs": [
    {
     "name": "stderr",
     "output_type": "stream",
     "text": [
      "/home/zf/anaconda3/envs/llm/lib/python3.10/site-packages/tqdm/auto.py:21: TqdmWarning: IProgress not found. Please update jupyter and ipywidgets. See https://ipywidgets.readthedocs.io/en/stable/user_install.html\n",
      "  from .autonotebook import tqdm as notebook_tqdm\n",
      "Loading checkpoint shards: 100%|██████████| 8/8 [00:16<00:00,  2.08s/it]\n"
     ]
    }
   ],
   "source": [
    "from llm_bases.chatglm6b import ChatGML6B\n",
    "from desi_llm.common.utils import random_orthonormal\n",
    "import torch\n",
    "glm6b = ChatGML6B()\n",
    "transformer = glm6b.condgen.transformer.layers[0]\n",
    "w1 = transformer.mlp.dense_h_to_4h.weight.to(\"cuda:1\")\n",
    "w2 = transformer.mlp.dense_4h_to_h.weight.to(\"cuda:1\")\n",
    "key = random_orthonormal(4096, 1000, \"cuda:1\")\n",
    "sw1 = (w1.float() @ key).half()\n",
    "sw2 = (key.T @ w2.float()).half()\n",
    "\n",
    "\n",
    "\n"
   ]
  },
  {
   "cell_type": "code",
   "execution_count": 28,
   "metadata": {},
   "outputs": [],
   "source": [
    "def apply_normal_noise(x: torch.Tensor, std: float):\n",
    "    noise = torch.normal(0, std, x.shape, dtype=x.dtype, device=x.device)\n",
    "    return x + noise"
   ]
  },
  {
   "cell_type": "code",
   "execution_count": 36,
   "metadata": {},
   "outputs": [],
   "source": [
    "h1 = w2 @ w1\n",
    "h11 = apply_normal_noise(w2, 0.001) @ apply_normal_noise(w1, 0.001)\n",
    "h2 = sw2 @ sw1\n",
    "h21 = apply_normal_noise(sw2, 0.001) @ apply_normal_noise(sw1, 0.001)"
   ]
  },
  {
   "cell_type": "code",
   "execution_count": 40,
   "metadata": {},
   "outputs": [],
   "source": [
    "from torch.optim import SGD\n",
    "\n",
    "def solve_orthogonal_by_torch(h_raw: torch.Tensor, h_rotated: torch.Tensor, ortho_reg: float = 0.1, n_iterations: int = 2000, stop_loss: float = 1e-5, device=\"cuda:1\"):\n",
    "    h_raw = h_raw.float().to(device)\n",
    "    h_rotated = h_rotated.float().to(device)\n",
    "\n",
    "    identity = torch.eye(h_raw.shape[0], dtype=torch.float, device=device)\n",
    "    transformation = torch.tensor(torch.eye(h_raw.shape[0], dtype=torch.float, device=device), requires_grad=True)\n",
    "    optimizer = SGD([transformation], 0.01, momentum=0.9)\n",
    "\n",
    "    for i in range(n_iterations):\n",
    "        loss0 = torch.mean(torch.square(transformation @ h_raw - h_rotated @ transformation))\n",
    "        loss_reg = ortho_reg * torch.mean(torch.square(transformation.T @ transformation - identity))\n",
    "        (loss0 + loss_reg).backward()\n",
    "        optimizer.step()\n",
    "        if i % 100 == 0:\n",
    "            print(f\"Losses: {loss0.item():.4f}, {loss_reg.item():.4f}\")\n",
    "        if (loss0 + loss_reg) < stop_loss:\n",
    "            break\n",
    "\n",
    "    return transformation"
   ]
  },
  {
   "cell_type": "code",
   "execution_count": 41,
   "metadata": {},
   "outputs": [
    {
     "name": "stderr",
     "output_type": "stream",
     "text": [
      "/tmp/ipykernel_291054/2509179904.py:8: UserWarning: To copy construct from a tensor, it is recommended to use sourceTensor.clone().detach() or sourceTensor.clone().detach().requires_grad_(True), rather than torch.tensor(sourceTensor).\n",
      "  transformation = torch.tensor(torch.eye(h_raw.shape[0], dtype=torch.float, device=device), requires_grad=True)\n"
     ]
    },
    {
     "name": "stdout",
     "output_type": "stream",
     "text": [
      "Losses: 0.0043, 0.0000\n",
      "Losses: 0.0042, 0.0000\n",
      "Losses: 0.0039, 0.0000\n",
      "Losses: 0.0036, 0.0000\n",
      "Losses: 0.0033, 0.0000\n",
      "Losses: 0.0031, 0.0000\n",
      "Losses: 0.0027, 0.0000\n",
      "Losses: 0.0023, 0.0000\n",
      "Losses: 0.0019, 0.0000\n",
      "Losses: 0.0018, 0.0000\n",
      "Losses: 0.0018, 0.0000\n",
      "Losses: 0.0016, 0.0000\n",
      "Losses: 0.0014, 0.0000\n",
      "Losses: 0.0013, 0.0000\n",
      "Losses: 0.0014, 0.0000\n",
      "Losses: 0.0017, 0.0000\n",
      "Losses: 0.0019, 0.0000\n",
      "Losses: 0.0019, 0.0000\n",
      "Losses: 0.0017, 0.0000\n",
      "Losses: 0.0018, 0.0000\n"
     ]
    }
   ],
   "source": [
    "transformation = solve_orthogonal_by_torch(h1, h2)"
   ]
  },
  {
   "cell_type": "code",
   "execution_count": 37,
   "metadata": {},
   "outputs": [
    {
     "name": "stdout",
     "output_type": "stream",
     "text": [
      "tensor(7.9870e-06, device='cuda:1', dtype=torch.float16)\n",
      "tensor(0.0043, device='cuda:1', dtype=torch.float16)\n",
      "tensor(0.0043, device='cuda:1', dtype=torch.float16)\n"
     ]
    }
   ],
   "source": [
    "print(torch.mean(torch.square(h11-h1)))\n",
    "print(torch.mean(torch.square(h2-h1)))\n",
    "print(torch.mean(torch.square(h21-h1)))"
   ]
  },
  {
   "cell_type": "code",
   "execution_count": 42,
   "metadata": {},
   "outputs": [
    {
     "name": "stdout",
     "output_type": "stream",
     "text": [
      "tensor(0.0002, device='cuda:1', grad_fn=<MeanBackward0>)\n"
     ]
    }
   ],
   "source": [
    "print(torch.mean(torch.square(transformation - key)))"
   ]
  },
  {
   "cell_type": "code",
   "execution_count": 44,
   "metadata": {},
   "outputs": [
    {
     "name": "stdout",
     "output_type": "stream",
     "text": [
      "tensor(0.0002, device='cuda:1')\n"
     ]
    }
   ],
   "source": [
    "print(torch.mean(torch.square(key - torch.eye(key.shape[0], device=\"cuda:1\"))))"
   ]
  },
  {
   "cell_type": "code",
   "execution_count": null,
   "metadata": {},
   "outputs": [],
   "source": []
  },
  {
   "cell_type": "code",
   "execution_count": null,
   "metadata": {},
   "outputs": [],
   "source": [
    "g2 = sw1 @ sw2"
   ]
  },
  {
   "cell_type": "code",
   "execution_count": null,
   "metadata": {},
   "outputs": [],
   "source": []
  },
  {
   "cell_type": "code",
   "execution_count": null,
   "metadata": {},
   "outputs": [],
   "source": [
    "g3 = apply_normal_noise(sw1, 0.001) @ apply_normal_noise(sw2, 0.001)"
   ]
  },
  {
   "cell_type": "code",
   "execution_count": null,
   "metadata": {},
   "outputs": [],
   "source": [
    "g1 = g1.float()\n",
    "g2 = g2.float()\n",
    "g3 = g3.float()"
   ]
  },
  {
   "cell_type": "code",
   "execution_count": null,
   "metadata": {},
   "outputs": [],
   "source": [
    "def earth_mover_distance(xs: torch.Tensor, ys: torch.Tensor):\n",
    "    xs, _ = torch.sort(xs)\n",
    "    ys, _ = torch.sort(ys)\n",
    "    return torch.mean(torch.abs(xs - ys), dim=-1)"
   ]
  },
  {
   "cell_type": "code",
   "execution_count": null,
   "metadata": {},
   "outputs": [],
   "source": [
    "print(earth_mover_distance(g1.float(), g2.float()))\n",
    "print(earth_mover_distance(g1.float(), g3.float()))\n",
    "print(earth_mover_distance(g1[1:].float(), g3[:-1].float()))"
   ]
  },
  {
   "cell_type": "code",
   "execution_count": null,
   "metadata": {},
   "outputs": [],
   "source": [
    "torch.sum(torch.square(g2 - g1))"
   ]
  },
  {
   "cell_type": "code",
   "execution_count": null,
   "metadata": {},
   "outputs": [],
   "source": [
    "torch.sum(torch.square(g3 - g1))"
   ]
  },
  {
   "cell_type": "code",
   "execution_count": null,
   "metadata": {},
   "outputs": [],
   "source": [
    "from scipy.optimize import quadratic_assignment\n",
    "\n",
    "permutation = torch.randperm(4 * 4096).to(\"cuda:1\")\n",
    "\n",
    "\n",
    "g3_permed = g3[permutation][:, permutation]\n",
    "\n",
    "g1_np = g1.cpu().numpy()\n",
    "g3_np = g3.cpu().numpy()\n"
   ]
  },
  {
   "cell_type": "code",
   "execution_count": null,
   "metadata": {},
   "outputs": [],
   "source": [
    "res = quadratic_assignment(g1_np, - g3_np)"
   ]
  },
  {
   "cell_type": "code",
   "execution_count": null,
   "metadata": {},
   "outputs": [],
   "source": [
    "permutation_np = permutation.cpu().numpy()"
   ]
  },
  {
   "cell_type": "code",
   "execution_count": null,
   "metadata": {},
   "outputs": [],
   "source": [
    "torch.std(g1)"
   ]
  },
  {
   "cell_type": "code",
   "execution_count": null,
   "metadata": {},
   "outputs": [],
   "source": [
    "h = g2 @ g1"
   ]
  },
  {
   "cell_type": "code",
   "execution_count": null,
   "metadata": {},
   "outputs": [],
   "source": []
  }
 ],
 "metadata": {
  "kernelspec": {
   "display_name": "llm",
   "language": "python",
   "name": "python3"
  },
  "language_info": {
   "codemirror_mode": {
    "name": "ipython",
    "version": 3
   },
   "file_extension": ".py",
   "mimetype": "text/x-python",
   "name": "python",
   "nbconvert_exporter": "python",
   "pygments_lexer": "ipython3",
   "version": "3.10.13"
  }
 },
 "nbformat": 4,
 "nbformat_minor": 2
}
