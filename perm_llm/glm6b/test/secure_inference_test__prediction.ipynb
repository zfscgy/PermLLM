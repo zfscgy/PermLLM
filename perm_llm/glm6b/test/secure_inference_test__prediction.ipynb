{
 "cells": [
  {
   "cell_type": "code",
   "execution_count": 1,
   "metadata": {},
   "outputs": [],
   "source": [
    "import torch\n",
    "from torch import nn\n",
    "prediction_layer = nn.Linear(4096, 130528, bias=False).cuda()\n",
    "\n",
    "\n",
    "hs = prediction_layer.weight[130527]\n",
    "h0 = torch.normal(0, 10, [4096]).cuda()\n",
    "h1 = hs - h0"
   ]
  },
  {
   "cell_type": "code",
   "execution_count": 2,
   "metadata": {},
   "outputs": [
    {
     "name": "stdout",
     "output_type": "stream",
     "text": [
      "Expected prediction:  130527\n"
     ]
    }
   ],
   "source": [
    "prediction = torch.argmax(prediction_layer(hs))\n",
    "print(\"Expected prediction: \", prediction.item())"
   ]
  },
  {
   "cell_type": "code",
   "execution_count": 3,
   "metadata": {},
   "outputs": [
    {
     "name": "stdout",
     "output_type": "stream",
     "text": [
      "'perm_llm.glm6b.secure_inference'\n"
     ]
    },
    {
     "name": "stderr",
     "output_type": "stream",
     "text": [
      "/home/zf/anaconda3/envs/torch/lib/python3.10/site-packages/tqdm/auto.py:21: TqdmWarning: IProgress not found. Please update jupyter and ipywidgets. See https://ipywidgets.readthedocs.io/en/stable/user_install.html\n",
      "  from .autonotebook import tqdm as notebook_tqdm\n"
     ]
    }
   ],
   "source": [
    "try:\n",
    "    import sys\n",
    "    del sys.modules['perm_llm.glm6b.secure_inference']\n",
    "    del sys.modules['homomorphic_encryption.bfv']\n",
    "    print(\"delete complete!\")\n",
    "except Exception as e:\n",
    "    print(e)\n",
    "from perm_llm.glm6b.secure_inference import GLM_PredictionProtocol, GLM_EmbeddingRetrievalProtocol\n",
    "from perm_llm.common.torch_utils import relative_error"
   ]
  },
  {
   "cell_type": "code",
   "execution_count": 4,
   "metadata": {},
   "outputs": [],
   "source": [
    "from perm_llm.common.communication import Communication, Node, SimulatedCommunication\n",
    "communication = SimulatedCommunication([\"n0\", \"n1\", \"n2\"])\n",
    "communication.new_stage(\"Test\")\n",
    "\n",
    "n0 = Node(communication, \"n0\")\n",
    "n1 = Node(communication, \"n1\")\n",
    "n2 = Node(communication, \"n2\")\n",
    "\n",
    "n0.space.word_embedding = prediction_layer.weight\n",
    "\n",
    "embedding_protocol = GLM_EmbeddingRetrievalProtocol(n0, n1, n2, 10, device=\"cuda\")\n",
    "prediction_protocol = GLM_PredictionProtocol(n0, n1, n2, embedding_protocol.name, 10, device=\"cuda\")\n",
    "embedding_protocol.prepare()\n",
    "prediction_protocol.prepare()\n",
    "prediction_protocol.offline_execute()"
   ]
  },
  {
   "cell_type": "code",
   "execution_count": 5,
   "metadata": {},
   "outputs": [
    {
     "name": "stdout",
     "output_type": "stream",
     "text": [
      "Computed prediction:  130527\n"
     ]
    }
   ],
   "source": [
    "n0.storage[f\"{prediction_protocol.name}:x0\"] = h0\n",
    "n1.storage[f\"{prediction_protocol.name}:x1\"] = h1\n",
    "prediction_protocol.online_execute()\n",
    "print(\"Computed prediction: \", n1.storage[f\"{prediction_protocol.name}:z\"])"
   ]
  },
  {
   "cell_type": "code",
   "execution_count": null,
   "metadata": {},
   "outputs": [],
   "source": []
  }
 ],
 "metadata": {
  "kernelspec": {
   "display_name": "llm",
   "language": "python",
   "name": "python3"
  },
  "language_info": {
   "codemirror_mode": {
    "name": "ipython",
    "version": 3
   },
   "file_extension": ".py",
   "mimetype": "text/x-python",
   "name": "python",
   "nbconvert_exporter": "python",
   "pygments_lexer": "ipython3",
   "version": "3.10.14"
  }
 },
 "nbformat": 4,
 "nbformat_minor": 2
}
