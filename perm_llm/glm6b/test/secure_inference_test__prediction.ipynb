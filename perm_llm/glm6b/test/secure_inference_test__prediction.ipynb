{
 "cells": [
  {
   "cell_type": "code",
   "execution_count": 1,
   "metadata": {},
   "outputs": [
    {
     "name": "stderr",
     "output_type": "stream",
     "text": [
      "/root/miniconda3/envs/llm/lib/python3.10/site-packages/tqdm/auto.py:21: TqdmWarning: IProgress not found. Please update jupyter and ipywidgets. See https://ipywidgets.readthedocs.io/en/stable/user_install.html\n",
      "  from .autonotebook import tqdm as notebook_tqdm\n",
      "Loading checkpoint shards: 100%|██████████| 8/8 [00:09<00:00,  1.22s/it]\n"
     ]
    }
   ],
   "source": [
    "import os\n",
    "from llm_bases.chatglm6b import ChatGML6B\n",
    "glm = ChatGML6B()"
   ]
  },
  {
   "cell_type": "code",
   "execution_count": 2,
   "metadata": {},
   "outputs": [],
   "source": [
    "prediction_layer = glm.condgen.lm_head.float().cuda()"
   ]
  },
  {
   "cell_type": "code",
   "execution_count": 3,
   "metadata": {},
   "outputs": [],
   "source": [
    "import torch\n",
    "hs = torch.normal(0, 1, [4096]).cuda()\n",
    "h0 = torch.normal(0, 10, [4096]).cuda()\n",
    "h1 = hs - h0"
   ]
  },
  {
   "cell_type": "code",
   "execution_count": 4,
   "metadata": {},
   "outputs": [
    {
     "name": "stdout",
     "output_type": "stream",
     "text": [
      "Expected prediction:  94781\n"
     ]
    }
   ],
   "source": [
    "prediction = torch.argmax(prediction_layer(hs))\n",
    "print(\"Expected prediction: \", prediction.item())"
   ]
  },
  {
   "cell_type": "code",
   "execution_count": 5,
   "metadata": {},
   "outputs": [
    {
     "name": "stdout",
     "output_type": "stream",
     "text": [
      "'split_llm.glm6b.secure_inference'\n"
     ]
    }
   ],
   "source": [
    "try:\n",
    "    import sys\n",
    "    del sys.modules['split_llm.glm6b.secure_inference']\n",
    "    del sys.modules['homomorphic_encryption.bfv']\n",
    "    print(\"delete complete!\")\n",
    "except Exception as e:\n",
    "    print(e)\n",
    "from split_llm.glm6b.secure_inference import GLM_PredictionProtocol\n",
    "from split_llm.common.torch_utils import relative_error"
   ]
  },
  {
   "cell_type": "code",
   "execution_count": 6,
   "metadata": {},
   "outputs": [],
   "source": [
    "from split_llm.common.communication import Communication, Node, SimulatedCommunication\n",
    "communication = SimulatedCommunication([\"n0\", \"n1\", \"n2\"])\n",
    "communication.new_stage(\"Test\")\n",
    "\n",
    "n0 = Node(communication, \"n0\")\n",
    "n1 = Node(communication, \"n1\")\n",
    "n2 = Node(communication, \"n2\")\n",
    "\n",
    "n0.space.final_dense = prediction_layer\n",
    "\n",
    "prediction_protocol = GLM_PredictionProtocol(n0, n1, n2, 10, device=\"cuda\")\n",
    "prediction_protocol.prepare()\n",
    "prediction_protocol.offline_execute()"
   ]
  },
  {
   "cell_type": "code",
   "execution_count": 7,
   "metadata": {},
   "outputs": [
    {
     "name": "stdout",
     "output_type": "stream",
     "text": [
      "Computed prediction:  [94781]\n"
     ]
    }
   ],
   "source": [
    "n0.storage[f\"{prediction_protocol.name}:x0\"] = h0\n",
    "n1.storage[f\"{prediction_protocol.name}:x1\"] = h1\n",
    "prediction_protocol.online_execute()\n",
    "print(\"Computed prediction: \", n1.storage[f\"{prediction_protocol.name}:z\"])"
   ]
  },
  {
   "cell_type": "code",
   "execution_count": 10,
   "metadata": {},
   "outputs": [
    {
     "data": {
      "text/plain": [
       "Parameter containing:\n",
       "tensor([[-8.4076e-03, -9.3689e-03, -5.4436e-03,  ..., -6.4545e-03,\n",
       "          1.6998e-02,  1.1108e-02],\n",
       "        [-1.0071e-02,  5.8022e-03,  4.8018e-04,  ..., -4.2701e-04,\n",
       "          1.0252e-03, -1.6556e-03],\n",
       "        [ 1.9424e-02,  6.3477e-03,  2.4933e-02,  ...,  5.7297e-03,\n",
       "          1.2512e-02,  9.4147e-03],\n",
       "        ...,\n",
       "        [-1.0078e-02,  3.0041e-03,  2.4376e-03,  ..., -4.7684e-06,\n",
       "          1.5430e-03,  1.1053e-03],\n",
       "        [-9.9945e-03,  4.4479e-03,  6.2141e-03,  ...,  1.7560e-04,\n",
       "          1.4286e-03, -1.1883e-03],\n",
       "        [-9.3536e-03,  1.7376e-03,  5.7373e-03,  ..., -1.0910e-03,\n",
       "          4.3945e-03, -1.2541e-03]], device='cuda:0')"
      ]
     },
     "execution_count": 10,
     "metadata": {},
     "output_type": "execute_result"
    }
   ],
   "source": [
    "prediction_layer.weight"
   ]
  },
  {
   "cell_type": "code",
   "execution_count": null,
   "metadata": {},
   "outputs": [],
   "source": []
  }
 ],
 "metadata": {
  "kernelspec": {
   "display_name": "llm",
   "language": "python",
   "name": "python3"
  },
  "language_info": {
   "codemirror_mode": {
    "name": "ipython",
    "version": 3
   },
   "file_extension": ".py",
   "mimetype": "text/x-python",
   "name": "python",
   "nbconvert_exporter": "python",
   "pygments_lexer": "ipython3",
   "version": "3.10.14"
  }
 },
 "nbformat": 4,
 "nbformat_minor": 2
}
