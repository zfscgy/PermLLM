{
 "cells": [
  {
   "cell_type": "code",
   "execution_count": 11,
   "metadata": {},
   "outputs": [
    {
     "name": "stderr",
     "output_type": "stream",
     "text": [
      "Loading checkpoint shards: 100%|██████████| 8/8 [00:08<00:00,  1.01s/it]\n"
     ]
    }
   ],
   "source": [
    "from llm_bases.chatglm6b import ChatGML6B\n",
    "glm = ChatGML6B()"
   ]
  },
  {
   "cell_type": "code",
   "execution_count": 12,
   "metadata": {},
   "outputs": [],
   "source": [
    "import sys\n",
    "try:\n",
    "    del sys.modules[\"split_llm.glm6b.wrapped_layer\"]\n",
    "except:\n",
    "    pass"
   ]
  },
  {
   "cell_type": "code",
   "execution_count": 13,
   "metadata": {},
   "outputs": [],
   "source": [
    "from split_llm.glm6b.wrapped_layer import Attention_GLM_Wrapped, FeedForward_GLM_Wrapped, copy_attention, copy_feedforward\n",
    "from split_llm.common.torch_utils import relative_error"
   ]
  },
  {
   "cell_type": "code",
   "execution_count": 14,
   "metadata": {},
   "outputs": [],
   "source": [
    "layer_id = 20\n",
    "\n",
    "transformer_layer = glm.condgen.transformer.layers[layer_id].float()\n",
    "attn_wrapped = Attention_GLM_Wrapped(4096, 32, layer_id)\n",
    "feedforward_wrapped = FeedForward_GLM_Wrapped(4096, 32, layer_id)\n",
    "copy_attention(transformer_layer, attn_wrapped)\n",
    "copy_feedforward(transformer_layer, None, feedforward_wrapped)"
   ]
  },
  {
   "cell_type": "code",
   "execution_count": 15,
   "metadata": {},
   "outputs": [],
   "source": [
    "import torch\n",
    "from split_llm.glm6b.utils import generate_attention_mask, generate_position_ids"
   ]
  },
  {
   "cell_type": "code",
   "execution_count": 16,
   "metadata": {},
   "outputs": [],
   "source": [
    "xs = torch.rand([10, 1, 4096]).cuda()\n",
    "transformer_layer.cuda()\n",
    "attn_wrapped.cuda()\n",
    "feedforward_wrapped.cuda()\n",
    "position_ids = generate_position_ids(10, 10).cuda()\n",
    "attention_mask = generate_attention_mask(10, 10).cuda()"
   ]
  },
  {
   "cell_type": "code",
   "execution_count": 17,
   "metadata": {},
   "outputs": [],
   "source": [
    "output_raw = transformer_layer(xs, position_ids, attention_mask, layer_id)[0]"
   ]
  },
  {
   "cell_type": "code",
   "execution_count": 18,
   "metadata": {},
   "outputs": [],
   "source": [
    "# Compute the output by wrapped layers\n",
    "xs_normalized = transformer_layer.input_layernorm(xs)\n",
    "attn_out_raw = attn_wrapped(xs_normalized, position_ids)\n",
    "attn_out = attn_out_raw + (2 * 28) ** 0.5 * xs_normalized\n",
    "output_wrapped = feedforward_wrapped(attn_out)\n"
   ]
  },
  {
   "cell_type": "code",
   "execution_count": 19,
   "metadata": {},
   "outputs": [
    {
     "name": "stdout",
     "output_type": "stream",
     "text": [
      "Error of transformer layer protocol: 0.00012\n"
     ]
    }
   ],
   "source": [
    "print(f\"Error of transformer layer protocol: {relative_error(output_wrapped, output_raw):.5f}\")"
   ]
  }
 ],
 "metadata": {
  "kernelspec": {
   "display_name": "llm",
   "language": "python",
   "name": "python3"
  },
  "language_info": {
   "codemirror_mode": {
    "name": "ipython",
    "version": 3
   },
   "file_extension": ".py",
   "mimetype": "text/x-python",
   "name": "python",
   "nbconvert_exporter": "python",
   "pygments_lexer": "ipython3",
   "version": "3.10.14"
  }
 },
 "nbformat": 4,
 "nbformat_minor": 2
}
