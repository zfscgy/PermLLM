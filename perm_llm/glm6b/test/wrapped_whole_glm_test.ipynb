{
 "cells": [
  {
   "cell_type": "code",
   "execution_count": 1,
   "metadata": {},
   "outputs": [
    {
     "name": "stderr",
     "output_type": "stream",
     "text": [
      "/root/miniconda3/envs/llm/lib/python3.10/site-packages/tqdm/auto.py:21: TqdmWarning: IProgress not found. Please update jupyter and ipywidgets. See https://ipywidgets.readthedocs.io/en/stable/user_install.html\n",
      "  from .autonotebook import tqdm as notebook_tqdm\n",
      "Loading checkpoint shards: 100%|██████████| 8/8 [00:08<00:00,  1.04s/it]\n"
     ]
    }
   ],
   "source": [
    "from llm_bases.chatglm6b import ChatGML6B\n",
    "glm = ChatGML6B()"
   ]
  },
  {
   "cell_type": "code",
   "execution_count": 3,
   "metadata": {},
   "outputs": [
    {
     "name": "stdout",
     "output_type": "stream",
     "text": [
      "Parameter containing:\n",
      "tensor([[-8.4076e-03, -9.3689e-03, -5.4436e-03,  ..., -6.4545e-03,\n",
      "          1.6998e-02,  1.1108e-02],\n",
      "        [-1.0071e-02,  5.8022e-03,  4.8018e-04,  ..., -4.2701e-04,\n",
      "          1.0252e-03, -1.6556e-03],\n",
      "        [ 1.9424e-02,  6.3477e-03,  2.4933e-02,  ...,  5.7297e-03,\n",
      "          1.2512e-02,  9.4147e-03],\n",
      "        ...,\n",
      "        [-1.0078e-02,  3.0041e-03,  2.4376e-03,  ..., -4.7684e-06,\n",
      "          1.5430e-03,  1.1053e-03],\n",
      "        [-9.9945e-03,  4.4479e-03,  6.2141e-03,  ...,  1.7560e-04,\n",
      "          1.4286e-03, -1.1883e-03],\n",
      "        [-9.3536e-03,  1.7376e-03,  5.7373e-03,  ..., -1.0910e-03,\n",
      "          4.3945e-03, -1.2541e-03]])\n"
     ]
    }
   ],
   "source": [
    "print(glm.condgen.lm_head.weight)"
   ]
  },
  {
   "cell_type": "code",
   "execution_count": null,
   "metadata": {},
   "outputs": [],
   "source": [
    "import torch\n",
    "import torch.nn.functional as F\n",
    "import numpy as np\n",
    "from typing import List"
   ]
  },
  {
   "cell_type": "code",
   "execution_count": null,
   "metadata": {},
   "outputs": [],
   "source": [
    "from split_llm.glm6b.wrapped_layer import Attention_GLM_Wrapped, FeedForward_GLM_Wrapped, copy_attention, copy_feedforward\n",
    "from split_llm.common.torch_utils import relative_error\n"
   ]
  },
  {
   "cell_type": "code",
   "execution_count": null,
   "metadata": {},
   "outputs": [],
   "source": [
    "raw_glm_layers = glm.condgen.transformer.layers\n",
    "attentions: List[Attention_GLM_Wrapped] = []\n",
    "ffs: List[FeedForward_GLM_Wrapped] = []\n",
    "for i in range(28):\n",
    "    transformer_layer = raw_glm_layers[i].float()\n",
    "    attn_wrapped = Attention_GLM_Wrapped(4096, 32, i)\n",
    "    copy_attention(transformer_layer, attn_wrapped)\n",
    "    attentions.append(attn_wrapped.cuda())\n",
    "\n",
    "    ff_wrapped = FeedForward_GLM_Wrapped(4096, 32, i)\n",
    "    if i == 27:\n",
    "        copy_feedforward(transformer_layer, None, ff_wrapped)\n",
    "        ff_wrapped.layernorm_out = glm.condgen.transformer.final_layernorm.float().cuda()\n",
    "    else:\n",
    "        copy_feedforward(transformer_layer, raw_glm_layers[i + 1].float(), ff_wrapped)\n",
    "    ffs.append(ff_wrapped.cuda())\n"
   ]
  },
  {
   "cell_type": "markdown",
   "metadata": {},
   "source": []
  },
  {
   "cell_type": "code",
   "execution_count": null,
   "metadata": {},
   "outputs": [],
   "source": [
    "from split_llm.glm6b.utils import generate_attention_mask, generate_position_ids"
   ]
  },
  {
   "cell_type": "code",
   "execution_count": null,
   "metadata": {},
   "outputs": [],
   "source": [
    "# Convert the GLM model weights (embeddings at the beginning and the end) into CUDA-float\n",
    "\n",
    "glm.condgen.transformer.word_embeddings.float().cuda()\n",
    "glm.condgen.lm_head.float().cuda()\n",
    "\n",
    "layernorm0 = glm.condgen.transformer.layers[0].input_layernorm.float().cuda()"
   ]
  },
  {
   "cell_type": "code",
   "execution_count": null,
   "metadata": {},
   "outputs": [],
   "source": [
    "def analyze_hidden_scales(query: str, generation_length: int):\n",
    "    input_ids, position_ids, attention_masks = glm.get_tokenization(query)\n",
    "    \n",
    "    \n",
    "    original_length = len(input_ids[0])\n",
    "    input_ids = input_ids.cuda()\n",
    "    start_id = input_ids[0, -1]\n",
    "    input_ids = input_ids[:, :-1]\n",
    "    position_ids = position_ids.cuda()[:, :, :-1]\n",
    "    # The start_id has an attention mask\n",
    "\n",
    "    \n",
    "    all_scales = []\n",
    "    previous_k = dict()\n",
    "    previous_v = dict()\n",
    "\n",
    "    predicted_ids = []\n",
    "\n",
    "    for i in range(generation_length):\n",
    "        # print(f\"Generate {i}-th token\")\n",
    "        # Here the first layernorm is moved\n",
    "        h = layernorm0(glm.get_initial_state(input_ids))\n",
    "        layer_scales = []\n",
    "        for j in range(28):\n",
    "            # print(\"Layer\", j)\n",
    "            # Forward to the i-th attention layer    \n",
    "            scale_h_in = h.abs().max().item()\n",
    "\n",
    "            # Attention module\n",
    "            attn_layer: Attention_GLM_Wrapped = attentions[j]\n",
    "            q, k, v = attn_layer.generate_qkv(h, position_ids)\n",
    "            if j not in previous_k:\n",
    "                previous_k[j] = k\n",
    "            else:\n",
    "                previous_k[j] = torch.cat([previous_k[j], k], dim=0)\n",
    "                k = previous_k[j]\n",
    "\n",
    "            \n",
    "            if j not in previous_v:\n",
    "                previous_v[j] = v\n",
    "            else:\n",
    "                previous_v[j] = torch.cat([previous_v[j], v], dim=0)\n",
    "                v = previous_v[j]\n",
    "\n",
    "\n",
    "            scale_v = v.abs().max().item()  # Record the scale of V\n",
    "            attn_scores = attn_layer.generate_logit_scores(q, k)\n",
    "            scale_attn_score = attn_scores.abs().max().item()  # Record the scale since here the plaintext is used\n",
    "            softmax_scores = attn_layer.generate_softmax_scores(attn_scores)\n",
    "            weighted_v = attn_layer.generate_weighted_values(softmax_scores, v)\n",
    "            attn_out = weighted_v @ attn_layer.attn_out_weight.T + attn_layer.attn_out_bias\n",
    "            # Feedforward module\n",
    "            ff_layer: FeedForward_GLM_Wrapped = ffs[j]\n",
    "            h0 = ff_layer.layernorm_in(attn_out + h * (2 * 28) ** 0.5)\n",
    "            h1 = ff_layer.mlp_dense_in(h0)\n",
    "            \n",
    "            scale_mlp_hidden = h1.abs().max().item()\n",
    "            h2 = F.gelu(h1)\n",
    "\n",
    "            #  h2 = gelu_openai(h1)\n",
    "            #  Those two gelu implementations do not have significant difference\n",
    "            h3 = ff_layer.mlp_dense_out(h2)\n",
    "            h4 = h3 + ff_layer.residual_coef * h0\n",
    "            h5 = ff_layer.layernorm_out(h4)\n",
    "\n",
    "            h = h5\n",
    "\n",
    "            layer_scales.append([scale_h_in, scale_v, scale_attn_score, scale_mlp_hidden])\n",
    "\n",
    "        logits = glm.condgen.lm_head(h).permute(1, 0, 2).contiguous()[0, -1]\n",
    "        # Get the logits on the next position\n",
    "        if start_id is not None:\n",
    "            next_id = start_id\n",
    "            start_id = None\n",
    "        else:\n",
    "            next_id = torch.argmax(logits)\n",
    "            predicted_ids.append(next_id.item())\n",
    "        # print(\"Next ID\", next_id)\n",
    "\n",
    "        if next_id == glm.condgen.generation_config.eos_token_id:\n",
    "            break\n",
    "        input_ids = torch.tensor([[next_id]]).cuda()  # Append the last id\n",
    "        position_ids = generate_position_ids(original_length, original_length + len(predicted_ids))[:, :, -1:].cuda()\n",
    "        # print(position_ids)\n",
    "        all_scales.append(layer_scales)\n",
    "    \n",
    "    print(predicted_ids)\n",
    "    print(glm.decode(predicted_ids))\n",
    "    return np.array(all_scales)"
   ]
  },
  {
   "cell_type": "code",
   "execution_count": null,
   "metadata": {},
   "outputs": [],
   "source": [
    "scales = analyze_hidden_scales(\"Tell me about Trump\", 300)"
   ]
  },
  {
   "cell_type": "code",
   "execution_count": null,
   "metadata": {},
   "outputs": [],
   "source": [
    "print(np.max(scales, axis=0))"
   ]
  },
  {
   "cell_type": "code",
   "execution_count": null,
   "metadata": {},
   "outputs": [],
   "source": [
    "original_scale = 10000_4214\n",
    "\n",
    "torch.tensor(original_scale + 34.52) - torch.tensor(original_scale)"
   ]
  },
  {
   "cell_type": "code",
   "execution_count": null,
   "metadata": {},
   "outputs": [],
   "source": [
    "# Check the scale of important weights\n",
    "# This is helpful for deciding the mask_size\n",
    "\n",
    "\n",
    "for i, (attn, ff) in enumerate(zip(attentions, ffs)):\n",
    "    print(f\"Layer {i:2d}, QKV max: {torch.max(attn.qkv_weight).item():4.4f}, AttnOut max: {torch.max(attn.attn_out_weight).item():4.4f}\")"
   ]
  },
  {
   "cell_type": "code",
   "execution_count": null,
   "metadata": {},
   "outputs": [],
   "source": [
    "ffs"
   ]
  },
  {
   "cell_type": "code",
   "execution_count": null,
   "metadata": {},
   "outputs": [],
   "source": []
  }
 ],
 "metadata": {
  "kernelspec": {
   "display_name": "llm",
   "language": "python",
   "name": "python3"
  },
  "language_info": {
   "codemirror_mode": {
    "name": "ipython",
    "version": 3
   },
   "file_extension": ".py",
   "mimetype": "text/x-python",
   "name": "python",
   "nbconvert_exporter": "python",
   "pygments_lexer": "ipython3",
   "version": "3.10.14"
  }
 },
 "nbformat": 4,
 "nbformat_minor": 2
}
