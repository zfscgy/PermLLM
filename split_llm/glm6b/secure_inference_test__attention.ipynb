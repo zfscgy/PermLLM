{
 "cells": [
  {
   "cell_type": "code",
   "execution_count": 1,
   "metadata": {},
   "outputs": [
    {
     "name": "stderr",
     "output_type": "stream",
     "text": [
      "/home/zf/anaconda3/envs/llm/lib/python3.10/site-packages/tqdm/auto.py:21: TqdmWarning: IProgress not found. Please update jupyter and ipywidgets. See https://ipywidgets.readthedocs.io/en/stable/user_install.html\n",
      "  from .autonotebook import tqdm as notebook_tqdm\n"
     ]
    }
   ],
   "source": [
    "import os\n",
    "os.environ[\"CUDA_VISIBLE_DEVICES\"] = \"1\"\n",
    "from split_llm.glm6b.wrapped_layer import Attention_GLM_Wrapped, copy_attention\n",
    "from split_llm.glm6b.utils import generate_position_ids"
   ]
  },
  {
   "cell_type": "code",
   "execution_count": 2,
   "metadata": {},
   "outputs": [
    {
     "name": "stderr",
     "output_type": "stream",
     "text": [
      "Loading checkpoint shards: 100%|██████████| 8/8 [00:11<00:00,  1.45s/it]\n"
     ]
    }
   ],
   "source": [
    "from llm_bases.chatglm6b import ChatGML6B\n",
    "glm = ChatGML6B()"
   ]
  },
  {
   "cell_type": "code",
   "execution_count": 3,
   "metadata": {},
   "outputs": [
    {
     "data": {
      "text/plain": [
       "Attention_GLM_Wrapped(\n",
       "  (positional_embedding): GLMPositionalEmbedding()\n",
       ")"
      ]
     },
     "execution_count": 3,
     "metadata": {},
     "output_type": "execute_result"
    }
   ],
   "source": [
    "transformer_layer = glm.condgen.transformer.layers[0].float()\n",
    "attn_wrapped = Attention_GLM_Wrapped(4096, 32, 0)\n",
    "copy_attention(transformer_layer, attn_wrapped)\n",
    "attn_wrapped.cuda()"
   ]
  },
  {
   "cell_type": "code",
   "execution_count": 4,
   "metadata": {},
   "outputs": [],
   "source": [
    "import torch\n",
    "x = torch.normal(0, 1, [10, 1, 4096]).cuda()"
   ]
  },
  {
   "cell_type": "code",
   "execution_count": 5,
   "metadata": {},
   "outputs": [],
   "source": [
    "# Generate the hidden representations in a normal transformer layer\n",
    "\n",
    "h_qkv = x @ attn_wrapped.qkv_weight.T + attn_wrapped.qkv_bias\n",
    "qs, ks, vs = h_qkv.view(-1, 1, 32, 128 * 3).chunk(3, dim=-1)\n",
    "qs, ks = attn_wrapped.positional_embedding(qs, ks, generate_position_ids(10, 10).cuda())\n",
    "scores = attn_wrapped.generate_logit_scores(qs, ks)\n",
    "softmax_scores = attn_wrapped.generate_softmax_scores(scores, dim=1)\n",
    "weighted_v = attn_wrapped.generate_weighted_values(softmax_scores, vs)\n",
    "attn_out = weighted_v @ attn_wrapped.attn_out_weight.T + attn_wrapped.attn_out_bias"
   ]
  },
  {
   "cell_type": "markdown",
   "metadata": {},
   "source": []
  },
  {
   "cell_type": "code",
   "execution_count": 65,
   "metadata": {},
   "outputs": [
    {
     "name": "stdout",
     "output_type": "stream",
     "text": [
      "delete complete!\n"
     ]
    }
   ],
   "source": [
    "try:\n",
    "    import sys\n",
    "    del sys.modules['split_llm.glm6b.utils']\n",
    "    del sys.modules['split_llm.protocols.base_protocols']\n",
    "    del sys.modules['split_llm.protocols.ss_mul_with_memory']\n",
    "    del sys.modules['split_llm.protocols.element_wise']\n",
    "    del sys.modules['split_llm.glm6b.secure_inference']\n",
    "    del sys.modules['split_llm.glm6b.wrapped_layer']\n",
    "    del sys.modules['split_llm.common.torch_utils']\n",
    "    print(\"delete complete!\")\n",
    "except Exception as e:\n",
    "    print(e)\n",
    "from split_llm.glm6b.secure_inference import GLMAttentionProtocol\n",
    "from split_llm.common.torch_utils import relative_error"
   ]
  },
  {
   "cell_type": "code",
   "execution_count": 66,
   "metadata": {},
   "outputs": [],
   "source": [
    "transformer_layer = glm.condgen.transformer.layers[0].float()\n",
    "attn_wrapped = Attention_GLM_Wrapped(4096, 32, 0)\n",
    "\n",
    "copy_attention(transformer_layer, attn_wrapped)"
   ]
  },
  {
   "cell_type": "code",
   "execution_count": 67,
   "metadata": {},
   "outputs": [],
   "source": [
    "from split_llm.common.communication import Communication, Node, SimulatedCommunication\n",
    "communication = SimulatedCommunication([\"n0\", \"n1\", \"n2\"])\n",
    "communication.new_stage(\"Test\")\n",
    "\n",
    "n0 = Node(communication, \"n0\")\n",
    "n1 = Node(communication, \"n1\")\n",
    "n2 = Node(communication, \"n2\")"
   ]
  },
  {
   "cell_type": "code",
   "execution_count": 68,
   "metadata": {},
   "outputs": [],
   "source": [
    "n0.space.attentions = [attn_wrapped.cuda()]"
   ]
  },
  {
   "cell_type": "code",
   "execution_count": 69,
   "metadata": {},
   "outputs": [],
   "source": [
    "protocol = GLMAttentionProtocol(\n",
    "    n0, n1, n2, 0, 10, device=\"cuda\"\n",
    ")\n",
    "protocol.prepare()\n",
    "protocol.offline_execute(10)"
   ]
  },
  {
   "cell_type": "code",
   "execution_count": 70,
   "metadata": {},
   "outputs": [],
   "source": [
    "x0 = torch.normal(0, 1, [10, 1, 4096]).cuda()\n",
    "x1 = x - x0\n",
    "n0.storage[f\"{protocol.name}:x0\"] = x0\n",
    "n1.storage[f\"{protocol.name}:x1\"] = x1\n"
   ]
  },
  {
   "cell_type": "code",
   "execution_count": 71,
   "metadata": {},
   "outputs": [],
   "source": [
    "# Test computing QKV\n",
    "protocol.online_step_qkv()"
   ]
  },
  {
   "cell_type": "code",
   "execution_count": 72,
   "metadata": {},
   "outputs": [
    {
     "name": "stdout",
     "output_type": "stream",
     "text": [
      "QKV error: 0.00046\n"
     ]
    }
   ],
   "source": [
    "qkv_computed = n0.storage[f\"{protocol.name}:h0\"] + n1.storage[f\"{protocol.name}:h1\"]\n",
    "print(f\"QKV error: {relative_error(qkv_computed, h_qkv):.5f}\")"
   ]
  },
  {
   "cell_type": "code",
   "execution_count": 73,
   "metadata": {},
   "outputs": [],
   "source": [
    "# Test computing dot-product\n",
    "protocol.online_step_dot_product()\n"
   ]
  },
  {
   "cell_type": "code",
   "execution_count": 74,
   "metadata": {},
   "outputs": [
    {
     "name": "stdout",
     "output_type": "stream",
     "text": [
      "Scores error: 0.00051\n"
     ]
    }
   ],
   "source": [
    "computed_scores = n0.storage[f\"{protocol.name}:s0\"] + n1.storage[f\"{protocol.name}:s1\"]\n",
    "print(f\"Scores error: {relative_error(computed_scores, scores):.5f}\")"
   ]
  },
  {
   "cell_type": "code",
   "execution_count": 75,
   "metadata": {},
   "outputs": [],
   "source": [
    "# Test computing softmax scores\n",
    "protocol.online_step_softmax()"
   ]
  },
  {
   "cell_type": "code",
   "execution_count": 76,
   "metadata": {},
   "outputs": [
    {
     "name": "stdout",
     "output_type": "stream",
     "text": [
      "Softmax Scores error: 0.00054\n"
     ]
    }
   ],
   "source": [
    "computed_softmax_scores = n0.storage[f\"{protocol.name}:s0\"] + n1.storage[f\"{protocol.name}:s1\"]\n",
    "print(f\"Softmax Scores error: {relative_error(computed_softmax_scores, softmax_scores):.5f}\")"
   ]
  },
  {
   "cell_type": "code",
   "execution_count": 77,
   "metadata": {},
   "outputs": [],
   "source": [
    "# Test compute weighted values\n",
    "protocol.online_step_weighted_v()"
   ]
  },
  {
   "cell_type": "code",
   "execution_count": 78,
   "metadata": {},
   "outputs": [
    {
     "name": "stdout",
     "output_type": "stream",
     "text": [
      "Weighted V error: 0.00058\n"
     ]
    }
   ],
   "source": [
    "computed_v = n0.storage[f\"{protocol.name}:h0\"] + n1.storage[f\"{protocol.name}:h1\"]\n",
    "print(f\"Weighted V error: {relative_error(computed_v, weighted_v):.5f}\")"
   ]
  },
  {
   "cell_type": "code",
   "execution_count": 79,
   "metadata": {},
   "outputs": [],
   "source": [
    "protocol.online_step_attn_out()"
   ]
  },
  {
   "cell_type": "code",
   "execution_count": 82,
   "metadata": {},
   "outputs": [
    {
     "name": "stdout",
     "output_type": "stream",
     "text": [
      "Attn Out error: 0.00078\n"
     ]
    }
   ],
   "source": [
    "computed_attn_out = n0.storage[f\"{protocol.name}:z0\"] + n1.storage[f\"{protocol.name}:z1\"]\n",
    "print(f\"Attn Out error: {relative_error(computed_attn_out, attn_out):.5f}\")"
   ]
  },
  {
   "cell_type": "code",
   "execution_count": 83,
   "metadata": {},
   "outputs": [
    {
     "data": {
      "text/plain": [
       "[[{'from': 'n2',\n",
       "   'to': 'n0',\n",
       "   'header': 'Attn_0/qkv_matmul/SS_Mul__CX_N0_Y_N1:beaver_u',\n",
       "   'size': 201326592},\n",
       "  {'from': 'n0',\n",
       "   'to': 'n1',\n",
       "   'header': 'Attn_0/qkv_matmul/SS_Mul__CX_N0_Y_N1:x-u',\n",
       "   'size': 201326592},\n",
       "  {'from': 'n2',\n",
       "   'to': 'n0',\n",
       "   'header': 'Attn_0/dot_product:beaver_u0 extended',\n",
       "   'size': 8192000},\n",
       "  {'from': 'n2',\n",
       "   'to': 'n1',\n",
       "   'header': 'Attn_0/dot_product:beaver_u1 extended',\n",
       "   'size': 8192000},\n",
       "  {'from': 'n2',\n",
       "   'to': 'n0',\n",
       "   'header': 'Attn_0/weighted_sum:beaver_u0 extended',\n",
       "   'size': 8192000},\n",
       "  {'from': 'n2',\n",
       "   'to': 'n1',\n",
       "   'header': 'Attn_0/weighted_sum:beaver_u1 extended',\n",
       "   'size': 8192000},\n",
       "  {'from': 'n2',\n",
       "   'to': 'n0',\n",
       "   'header': 'Attn_0/attn_out/SS_Mul__CX_N0_Y_N1:beaver_u',\n",
       "   'size': 67108864},\n",
       "  {'from': 'n0',\n",
       "   'to': 'n1',\n",
       "   'header': 'Attn_0/attn_out/SS_Mul__CX_N0_Y_N1:x-u',\n",
       "   'size': 67108864},\n",
       "  {'from': 'n2',\n",
       "   'to': 'n1',\n",
       "   'header': 'Attn_0/qkv_matmul/SS_Mul__CX_N0_Y_N1:beaver_v',\n",
       "   'size': 163840},\n",
       "  {'from': 'n2',\n",
       "   'to': 'n0',\n",
       "   'header': 'Attn_0/qkv_matmul/SS_Mul__CX_N0_Y_N1:beaver_w0',\n",
       "   'size': 491520},\n",
       "  {'from': 'n2',\n",
       "   'to': 'n1',\n",
       "   'header': 'Attn_0/qkv_matmul/SS_Mul__CX_N0_Y_N1:beaver_w1',\n",
       "   'size': 491520},\n",
       "  {'from': 'n2',\n",
       "   'to': 'n0',\n",
       "   'header': 'Attn_0/dot_product:beaver_v0',\n",
       "   'size': 163840},\n",
       "  {'from': 'n2',\n",
       "   'to': 'n1',\n",
       "   'header': 'Attn_0/dot_product:beaver_v1',\n",
       "   'size': 163840},\n",
       "  {'from': 'n2',\n",
       "   'to': 'n0',\n",
       "   'header': 'Attn_0/dot_product:beaver_w0',\n",
       "   'size': 12800},\n",
       "  {'from': 'n2',\n",
       "   'to': 'n1',\n",
       "   'header': 'Attn_0/dot_product:beaver_w1',\n",
       "   'size': 12800},\n",
       "  {'from': 'n0',\n",
       "   'to': 'n2',\n",
       "   'header': 'Attn_0/softmax/perm:new_perm',\n",
       "   'size': 4},\n",
       "  {'from': 'n2',\n",
       "   'to': 'n0',\n",
       "   'header': 'Attn_0/softmax/perm:perm_diff',\n",
       "   'size': 12800},\n",
       "  {'from': 'n2',\n",
       "   'to': 'n1',\n",
       "   'header': 'Attn_0/softmax/perm:mask_a&b',\n",
       "   'size': 25600},\n",
       "  {'from': 'n0',\n",
       "   'to': 'n2',\n",
       "   'header': 'Attn_0/softmax/invperm:new_perm',\n",
       "   'size': 4},\n",
       "  {'from': 'n2',\n",
       "   'to': 'n0',\n",
       "   'header': 'Attn_0/softmax/invperm:perm_diff',\n",
       "   'size': 12800},\n",
       "  {'from': 'n2',\n",
       "   'to': 'n1',\n",
       "   'header': 'Attn_0/softmax/invperm:mask_a&b',\n",
       "   'size': 25600},\n",
       "  {'from': 'n2',\n",
       "   'to': 'n0',\n",
       "   'header': 'Attn_0/weighted_sum:beaver_v0',\n",
       "   'size': 12800},\n",
       "  {'from': 'n2',\n",
       "   'to': 'n1',\n",
       "   'header': 'Attn_0/weighted_sum:beaver_v1',\n",
       "   'size': 12800},\n",
       "  {'from': 'n2',\n",
       "   'to': 'n0',\n",
       "   'header': 'Attn_0/weighted_sum:beaver_w0',\n",
       "   'size': 163840},\n",
       "  {'from': 'n2',\n",
       "   'to': 'n1',\n",
       "   'header': 'Attn_0/weighted_sum:beaver_w1',\n",
       "   'size': 163840},\n",
       "  {'from': 'n2',\n",
       "   'to': 'n1',\n",
       "   'header': 'Attn_0/attn_out/SS_Mul__CX_N0_Y_N1:beaver_v',\n",
       "   'size': 163840},\n",
       "  {'from': 'n2',\n",
       "   'to': 'n0',\n",
       "   'header': 'Attn_0/attn_out/SS_Mul__CX_N0_Y_N1:beaver_w0',\n",
       "   'size': 163840},\n",
       "  {'from': 'n2',\n",
       "   'to': 'n1',\n",
       "   'header': 'Attn_0/attn_out/SS_Mul__CX_N0_Y_N1:beaver_w1',\n",
       "   'size': 163840},\n",
       "  {'from': 'n1',\n",
       "   'to': 'n0',\n",
       "   'header': 'Attn_0/qkv_matmul/SS_Mul__CX_N0_Y_N1:y-v',\n",
       "   'size': 163840},\n",
       "  {'from': 'n0',\n",
       "   'to': 'n1',\n",
       "   'header': 'Attn_0/dot_product:x0-u0 appended',\n",
       "   'size': 163840},\n",
       "  {'from': 'n0',\n",
       "   'to': 'n1',\n",
       "   'header': 'Attn_0/dot_product:y0-v0',\n",
       "   'size': 163840},\n",
       "  {'from': 'n1',\n",
       "   'to': 'n0',\n",
       "   'header': 'Attn_0/dot_product:x1-u1 appended',\n",
       "   'size': 163840},\n",
       "  {'from': 'n1',\n",
       "   'to': 'n0',\n",
       "   'header': 'Attn_0/dot_product:y1-v1',\n",
       "   'size': 163840},\n",
       "  {'from': 'n1',\n",
       "   'to': 'n0',\n",
       "   'header': 'Attn_0/softmax/perm:x1-mask_a',\n",
       "   'size': 12800},\n",
       "  {'from': 'n0',\n",
       "   'to': 'n1',\n",
       "   'header': 'Attn_0/softmax:permuted-x0',\n",
       "   'size': 12800},\n",
       "  {'from': 'n1',\n",
       "   'to': 'n0',\n",
       "   'header': 'Attn_0/softmax/invperm:x1-mask_a',\n",
       "   'size': 12800},\n",
       "  {'from': 'n0',\n",
       "   'to': 'n1',\n",
       "   'header': 'Attn_0/weighted_sum:x0-u0 appended',\n",
       "   'size': 163840},\n",
       "  {'from': 'n0',\n",
       "   'to': 'n1',\n",
       "   'header': 'Attn_0/weighted_sum:y0-v0',\n",
       "   'size': 12800},\n",
       "  {'from': 'n1',\n",
       "   'to': 'n0',\n",
       "   'header': 'Attn_0/weighted_sum:x1-u1 appended',\n",
       "   'size': 163840},\n",
       "  {'from': 'n1',\n",
       "   'to': 'n0',\n",
       "   'header': 'Attn_0/weighted_sum:y1-v1',\n",
       "   'size': 12800},\n",
       "  {'from': 'n1',\n",
       "   'to': 'n0',\n",
       "   'header': 'Attn_0/attn_out/SS_Mul__CX_N0_Y_N1:y-v',\n",
       "   'size': 163840}]]"
      ]
     },
     "execution_count": 83,
     "metadata": {},
     "output_type": "execute_result"
    }
   ],
   "source": [
    "communication.comm_history"
   ]
  },
  {
   "cell_type": "code",
   "execution_count": null,
   "metadata": {},
   "outputs": [],
   "source": []
  }
 ],
 "metadata": {
  "kernelspec": {
   "display_name": "llm",
   "language": "python",
   "name": "python3"
  },
  "language_info": {
   "codemirror_mode": {
    "name": "ipython",
    "version": 3
   },
   "file_extension": ".py",
   "mimetype": "text/x-python",
   "name": "python",
   "nbconvert_exporter": "python",
   "pygments_lexer": "ipython3",
   "version": "3.10.13"
  }
 },
 "nbformat": 4,
 "nbformat_minor": 2
}
