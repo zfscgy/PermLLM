{
 "cells": [
  {
   "cell_type": "code",
   "execution_count": 1,
   "metadata": {},
   "outputs": [
    {
     "name": "stderr",
     "output_type": "stream",
     "text": [
      "/root/miniconda3/envs/llm/lib/python3.10/site-packages/tqdm/auto.py:21: TqdmWarning: IProgress not found. Please update jupyter and ipywidgets. See https://ipywidgets.readthedocs.io/en/stable/user_install.html\n",
      "  from .autonotebook import tqdm as notebook_tqdm\n"
     ]
    }
   ],
   "source": [
    "import os\n",
    "from split_llm.glm6b.wrapped_layer import Attention_GLM_Wrapped, copy_attention, FeedForward_GLM_Wrapped, copy_feedforward\n",
    "from split_llm.glm6b.utils import generate_position_ids"
   ]
  },
  {
   "cell_type": "code",
   "execution_count": 2,
   "metadata": {},
   "outputs": [
    {
     "name": "stderr",
     "output_type": "stream",
     "text": [
      "Loading checkpoint shards: 100%|██████████| 8/8 [00:08<00:00,  1.09s/it]\n"
     ]
    }
   ],
   "source": [
    "from llm_bases.chatglm6b import ChatGML6B\n",
    "glm = ChatGML6B()"
   ]
  },
  {
   "cell_type": "code",
   "execution_count": 3,
   "metadata": {},
   "outputs": [
    {
     "data": {
      "text/plain": [
       "FeedForward_GLM_Wrapped(\n",
       "  (layernorm_in): LayerNorm((4096,), eps=1e-05, elementwise_affine=True)\n",
       "  (mlp_dense_in): Linear(in_features=4096, out_features=16384, bias=True)\n",
       "  (mlp_dense_out): Linear(in_features=16384, out_features=4096, bias=True)\n",
       "  (layernorm_out): LayerNorm((4096,), eps=1e-05, elementwise_affine=True)\n",
       ")"
      ]
     },
     "execution_count": 3,
     "metadata": {},
     "output_type": "execute_result"
    }
   ],
   "source": [
    "transformer_layer = glm.condgen.transformer.layers[10].float()\n",
    "next_layer = glm.condgen.transformer.layers[11].float()\n",
    "attn_wrapped = Attention_GLM_Wrapped(4096, 32, 0)\n",
    "ff_wrapped = FeedForward_GLM_Wrapped(4096, 32, 0)\n",
    "copy_attention(transformer_layer, attn_wrapped)\n",
    "copy_feedforward(transformer_layer, next_layer, ff_wrapped)\n",
    "attn_wrapped.cuda()\n",
    "ff_wrapped.cuda()"
   ]
  },
  {
   "cell_type": "code",
   "execution_count": 4,
   "metadata": {},
   "outputs": [],
   "source": [
    "import torch\n",
    "xs = torch.normal(0, 1, [10, 1, 4096]).cuda()\n",
    "position_ids = generate_position_ids(11, 11)[..., :-1].cuda()"
   ]
  },
  {
   "cell_type": "code",
   "execution_count": 5,
   "metadata": {},
   "outputs": [],
   "source": [
    "# Generate the hidden representations in a normal transformer layer\n",
    "attn_out_raw = attn_wrapped(xs, position_ids)\n",
    "attn_out = attn_out_raw + (2 * 28) ** 0.5 * xs\n",
    "output_wrapped = ff_wrapped(attn_out)"
   ]
  },
  {
   "cell_type": "code",
   "execution_count": 6,
   "metadata": {},
   "outputs": [
    {
     "name": "stdout",
     "output_type": "stream",
     "text": [
      "'split_llm.protocols.base_protocols'\n"
     ]
    }
   ],
   "source": [
    "try:\n",
    "    import sys\n",
    "    del sys.modules['split_llm.glm6b.utils']\n",
    "    del sys.modules['split_llm.protocols.base_protocols']\n",
    "    del sys.modules['split_llm.protocols.ss_mul_with_memory']\n",
    "    del sys.modules['split_llm.protocols.element_wise']\n",
    "    del sys.modules['split_llm.glm6b.secure_inference']\n",
    "    del sys.modules['split_llm.glm6b.wrapped_layer']\n",
    "    del sys.modules['split_llm.common.torch_utils']\n",
    "    print(\"delete complete!\")\n",
    "except Exception as e:\n",
    "    print(e)\n",
    "from split_llm.glm6b.secure_inference import GLM_AttentionProtocol, GLM_FeedForwardProtocol_PlainWeights\n",
    "from split_llm.common.torch_utils import relative_error"
   ]
  },
  {
   "cell_type": "code",
   "execution_count": 7,
   "metadata": {},
   "outputs": [],
   "source": [
    "from split_llm.common.communication import Communication, Node, SimulatedCommunication\n",
    "communication = SimulatedCommunication([\"n0\", \"n1\", \"n2\"])\n",
    "communication.new_stage(\"Test\")\n",
    "\n",
    "n0 = Node(communication, \"n0\")\n",
    "n1 = Node(communication, \"n1\")\n",
    "n2 = Node(communication, \"n2\")"
   ]
  },
  {
   "cell_type": "code",
   "execution_count": 8,
   "metadata": {},
   "outputs": [],
   "source": [
    "n0.space.attentions = [attn_wrapped.cuda()]\n",
    "n0.space.ffs = n1.space.ffs = [ff_wrapped.cuda()]"
   ]
  },
  {
   "cell_type": "code",
   "execution_count": 9,
   "metadata": {},
   "outputs": [],
   "source": [
    "attn_protocol = GLM_AttentionProtocol(\n",
    "    n0, n1, n2, 0, 10, device=\"cuda\"\n",
    ")\n",
    "attn_protocol.prepare()\n",
    "attn_protocol.offline_execute(10)\n",
    "\n",
    "ff_protocol = GLM_FeedForwardProtocol_PlainWeights(\n",
    "    n0, n1, n2, 0, 10, device=\"cuda\"\n",
    ")\n",
    "ff_protocol.prepare()\n",
    "ff_protocol.offline_execute(10)"
   ]
  },
  {
   "cell_type": "code",
   "execution_count": 10,
   "metadata": {},
   "outputs": [],
   "source": [
    "x0 = torch.normal(0, 1, [10, 1, 4096]).cuda()\n",
    "x1 = xs.cuda() - x0\n",
    "n0.storage[f\"{attn_protocol.name}:x0\"] = x0\n",
    "n1.storage[f\"{attn_protocol.name}:x1\"] = x1"
   ]
  },
  {
   "cell_type": "code",
   "execution_count": 11,
   "metadata": {},
   "outputs": [
    {
     "name": "stdout",
     "output_type": "stream",
     "text": [
      "attn_out error: 0.00059\n"
     ]
    }
   ],
   "source": [
    "# Test the attention layer protocols\n",
    "attn_protocol.online_execute()\n",
    "attn_out_shared = n0.storage[f\"{attn_protocol.name}:z0\"] + n1.storage[f\"{attn_protocol.name}:z1\"]\n",
    "print(f\"attn_out error: {relative_error(attn_out_shared, attn_out_raw):.5f}\")"
   ]
  },
  {
   "cell_type": "code",
   "execution_count": 12,
   "metadata": {},
   "outputs": [],
   "source": [
    "n0.storage[f\"{ff_protocol.name}:x0\"] = n0.storage[f\"{attn_protocol.name}:z0\"] + (2 * 28) ** 0.5 * n0.storage[f\"{attn_protocol.name}:x0\"]\n",
    "n1.storage[f\"{ff_protocol.name}:x1\"] = n1.storage[f\"{attn_protocol.name}:z1\"] + (2 * 28) ** 0.5 * n1.storage[f\"{attn_protocol.name}:x1\"]"
   ]
  },
  {
   "cell_type": "code",
   "execution_count": 13,
   "metadata": {},
   "outputs": [
    {
     "name": "stdout",
     "output_type": "stream",
     "text": [
      "ff_out error: 0.00006\n"
     ]
    }
   ],
   "source": [
    "ff_protocol.online_execute()\n",
    "ff_out_shared = n0.storage[f\"{ff_protocol.name}:z0\"] + n1.storage[f\"{ff_protocol.name}:z1\"]\n",
    "print(f\"ff_out error: {relative_error(ff_out_shared, output_wrapped):.5f}\")"
   ]
  },
  {
   "cell_type": "code",
   "execution_count": null,
   "metadata": {},
   "outputs": [],
   "source": []
  },
  {
   "cell_type": "code",
   "execution_count": null,
   "metadata": {},
   "outputs": [],
   "source": []
  }
 ],
 "metadata": {
  "kernelspec": {
   "display_name": "llm",
   "language": "python",
   "name": "python3"
  },
  "language_info": {
   "codemirror_mode": {
    "name": "ipython",
    "version": 3
   },
   "file_extension": ".py",
   "mimetype": "text/x-python",
   "name": "python",
   "nbconvert_exporter": "python",
   "pygments_lexer": "ipython3",
   "version": "3.10.14"
  }
 },
 "nbformat": 4,
 "nbformat_minor": 2
}
