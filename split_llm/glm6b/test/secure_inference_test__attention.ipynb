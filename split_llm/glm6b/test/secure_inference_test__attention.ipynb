{
 "cells": [
  {
   "cell_type": "code",
   "execution_count": 1,
   "metadata": {},
   "outputs": [
    {
     "name": "stderr",
     "output_type": "stream",
     "text": [
      "/root/miniconda3/envs/llm/lib/python3.10/site-packages/tqdm/auto.py:21: TqdmWarning: IProgress not found. Please update jupyter and ipywidgets. See https://ipywidgets.readthedocs.io/en/stable/user_install.html\n",
      "  from .autonotebook import tqdm as notebook_tqdm\n"
     ]
    }
   ],
   "source": [
    "import os\n",
    "from split_llm.glm6b.wrapped_layer import Attention_GLM_Wrapped, copy_attention\n",
    "from split_llm.glm6b.utils import generate_position_ids"
   ]
  },
  {
   "cell_type": "code",
   "execution_count": 3,
   "metadata": {},
   "outputs": [
    {
     "name": "stderr",
     "output_type": "stream",
     "text": [
      "Loading checkpoint shards: 100%|██████████| 8/8 [00:13<00:00,  1.69s/it]\n"
     ]
    }
   ],
   "source": [
    "from llm_bases.chatglm6b import ChatGML6B\n",
    "glm = ChatGML6B()"
   ]
  },
  {
   "cell_type": "code",
   "execution_count": 4,
   "metadata": {},
   "outputs": [
    {
     "data": {
      "text/plain": [
       "Attention_GLM_Wrapped(\n",
       "  (positional_embedding): GLMPositionalEmbedding()\n",
       ")"
      ]
     },
     "execution_count": 4,
     "metadata": {},
     "output_type": "execute_result"
    }
   ],
   "source": [
    "transformer_layer = glm.condgen.transformer.layers[0].float()\n",
    "attn_wrapped = Attention_GLM_Wrapped(4096, 32, 0)\n",
    "copy_attention(transformer_layer, attn_wrapped)\n",
    "attn_wrapped.cuda()"
   ]
  },
  {
   "cell_type": "code",
   "execution_count": 5,
   "metadata": {},
   "outputs": [],
   "source": [
    "import torch\n",
    "x = torch.normal(0, 1, [10, 1, 4096]).cuda()"
   ]
  },
  {
   "cell_type": "code",
   "execution_count": 6,
   "metadata": {},
   "outputs": [],
   "source": [
    "# Generate the hidden representations in a normal transformer layer\n",
    "\n",
    "h_qkv = x @ attn_wrapped.qkv_weight.T + attn_wrapped.qkv_bias\n",
    "qs, ks, vs = h_qkv.view(-1, 1, 32, 128 * 3).chunk(3, dim=-1)\n",
    "qs, ks = attn_wrapped.positional_embedding(qs, ks, generate_position_ids(10, 10).cuda())\n",
    "scores = attn_wrapped.generate_logit_scores(qs, ks)\n",
    "softmax_scores = attn_wrapped.generate_softmax_scores(scores, dim=1)\n",
    "weighted_v = attn_wrapped.generate_weighted_values(softmax_scores, vs)\n",
    "attn_out = weighted_v @ attn_wrapped.attn_out_weight.T + attn_wrapped.attn_out_bias"
   ]
  },
  {
   "cell_type": "markdown",
   "metadata": {},
   "source": []
  },
  {
   "cell_type": "code",
   "execution_count": 7,
   "metadata": {},
   "outputs": [
    {
     "name": "stdout",
     "output_type": "stream",
     "text": [
      "'split_llm.protocols.base_protocols'\n"
     ]
    },
    {
     "ename": "ModuleNotFoundError",
     "evalue": "No module named 'tenseal'",
     "output_type": "error",
     "traceback": [
      "\u001b[0;31m---------------------------------------------------------------------------\u001b[0m",
      "\u001b[0;31mModuleNotFoundError\u001b[0m                       Traceback (most recent call last)",
      "Cell \u001b[0;32mIn[7], line 13\u001b[0m\n\u001b[1;32m     11\u001b[0m \u001b[38;5;28;01mexcept\u001b[39;00m \u001b[38;5;167;01mException\u001b[39;00m \u001b[38;5;28;01mas\u001b[39;00m e:\n\u001b[1;32m     12\u001b[0m     \u001b[38;5;28mprint\u001b[39m(e)\n\u001b[0;32m---> 13\u001b[0m \u001b[38;5;28;01mfrom\u001b[39;00m \u001b[38;5;21;01msplit_llm\u001b[39;00m\u001b[38;5;21;01m.\u001b[39;00m\u001b[38;5;21;01mglm6b\u001b[39;00m\u001b[38;5;21;01m.\u001b[39;00m\u001b[38;5;21;01msecure_inference\u001b[39;00m \u001b[38;5;28;01mimport\u001b[39;00m GLM_AttentionProtocol\n\u001b[1;32m     14\u001b[0m \u001b[38;5;28;01mfrom\u001b[39;00m \u001b[38;5;21;01msplit_llm\u001b[39;00m\u001b[38;5;21;01m.\u001b[39;00m\u001b[38;5;21;01mcommon\u001b[39;00m\u001b[38;5;21;01m.\u001b[39;00m\u001b[38;5;21;01mtorch_utils\u001b[39;00m \u001b[38;5;28;01mimport\u001b[39;00m relative_error\n",
      "File \u001b[0;32m~/autodl-tmp/PermLLM/split_llm/glm6b/secure_inference.py:22\u001b[0m\n\u001b[1;32m     17\u001b[0m \u001b[38;5;28;01mfrom\u001b[39;00m \u001b[38;5;21;01msplit_llm\u001b[39;00m\u001b[38;5;21;01m.\u001b[39;00m\u001b[38;5;21;01mglm6b\u001b[39;00m\u001b[38;5;21;01m.\u001b[39;00m\u001b[38;5;21;01mutils\u001b[39;00m \u001b[38;5;28;01mimport\u001b[39;00m generate_position_ids\n\u001b[1;32m     19\u001b[0m \u001b[38;5;28;01mfrom\u001b[39;00m \u001b[38;5;21;01msplit_llm\u001b[39;00m\u001b[38;5;21;01m.\u001b[39;00m\u001b[38;5;21;01mcommon\u001b[39;00m\u001b[38;5;21;01m.\u001b[39;00m\u001b[38;5;21;01mtorch_utils\u001b[39;00m \u001b[38;5;28;01mimport\u001b[39;00m permute_2d_with_seed, permute_with_seed\n\u001b[0;32m---> 22\u001b[0m \u001b[38;5;28;01mfrom\u001b[39;00m \u001b[38;5;21;01mhomomorphic_encryption\u001b[39;00m\u001b[38;5;21;01m.\u001b[39;00m\u001b[38;5;21;01mbfv\u001b[39;00m \u001b[38;5;28;01mimport\u001b[39;00m BFV\n\u001b[1;32m     23\u001b[0m \u001b[38;5;28;01mimport\u001b[39;00m \u001b[38;5;21;01mtenseal\u001b[39;00m \u001b[38;5;28;01mas\u001b[39;00m \u001b[38;5;21;01mts\u001b[39;00m\n\u001b[1;32m     27\u001b[0m \u001b[38;5;28;01mclass\u001b[39;00m \u001b[38;5;21;01mGLMConfig\u001b[39;00m:\n",
      "File \u001b[0;32m~/autodl-tmp/PermLLM/homomorphic_encryption/bfv.py:4\u001b[0m\n\u001b[1;32m      1\u001b[0m \u001b[38;5;28;01mfrom\u001b[39;00m \u001b[38;5;21;01mtyping\u001b[39;00m \u001b[38;5;28;01mimport\u001b[39;00m Union, List\n\u001b[1;32m      3\u001b[0m \u001b[38;5;28;01mimport\u001b[39;00m \u001b[38;5;21;01mnumpy\u001b[39;00m \u001b[38;5;28;01mas\u001b[39;00m \u001b[38;5;21;01mnp\u001b[39;00m\n\u001b[0;32m----> 4\u001b[0m \u001b[38;5;28;01mimport\u001b[39;00m \u001b[38;5;21;01mtenseal\u001b[39;00m \u001b[38;5;28;01mas\u001b[39;00m \u001b[38;5;21;01mts\u001b[39;00m\n\u001b[1;32m      5\u001b[0m \u001b[38;5;28;01mimport\u001b[39;00m \u001b[38;5;21;01mtenseal\u001b[39;00m\u001b[38;5;21;01m.\u001b[39;00m\u001b[38;5;21;01msealapi\u001b[39;00m \u001b[38;5;28;01mas\u001b[39;00m \u001b[38;5;21;01mseal\u001b[39;00m\n\u001b[1;32m      7\u001b[0m \u001b[38;5;28;01mimport\u001b[39;00m \u001b[38;5;21;01mthreading\u001b[39;00m\n",
      "\u001b[0;31mModuleNotFoundError\u001b[0m: No module named 'tenseal'"
     ]
    }
   ],
   "source": [
    "try:\n",
    "    import sys\n",
    "    del sys.modules['split_llm.glm6b.utils']\n",
    "    del sys.modules['split_llm.protocols.base_protocols']\n",
    "    del sys.modules['split_llm.protocols.ss_mul_with_memory']\n",
    "    del sys.modules['split_llm.protocols.element_wise']\n",
    "    del sys.modules['split_llm.glm6b.secure_inference']\n",
    "    del sys.modules['split_llm.glm6b.wrapped_layer']\n",
    "    del sys.modules['split_llm.common.torch_utils']\n",
    "    print(\"delete complete!\")\n",
    "except Exception as e:\n",
    "    print(e)\n",
    "from split_llm.glm6b.secure_inference import GLM_AttentionProtocol\n",
    "from split_llm.common.torch_utils import relative_error"
   ]
  },
  {
   "cell_type": "code",
   "execution_count": 8,
   "metadata": {},
   "outputs": [],
   "source": [
    "transformer_layer = glm.condgen.transformer.layers[0].float()\n",
    "attn_wrapped = Attention_GLM_Wrapped(4096, 32, 0)\n",
    "\n",
    "copy_attention(transformer_layer, attn_wrapped)"
   ]
  },
  {
   "cell_type": "code",
   "execution_count": 9,
   "metadata": {},
   "outputs": [],
   "source": [
    "from split_llm.common.communication import Communication, Node, SimulatedCommunication\n",
    "communication = SimulatedCommunication([\"n0\", \"n1\", \"n2\"])\n",
    "communication.new_stage(\"Test\")\n",
    "\n",
    "n0 = Node(communication, \"n0\")\n",
    "n1 = Node(communication, \"n1\")\n",
    "n2 = Node(communication, \"n2\")"
   ]
  },
  {
   "cell_type": "code",
   "execution_count": null,
   "metadata": {},
   "outputs": [],
   "source": [
    "n0.space.attentions = [attn_wrapped.cuda()]"
   ]
  },
  {
   "cell_type": "code",
   "execution_count": null,
   "metadata": {},
   "outputs": [],
   "source": [
    "protocol = GLM_AttentionProtocol(\n",
    "    n0, n1, n2, 0, 10, device=\"cuda\"\n",
    ")\n",
    "protocol.prepare()\n",
    "protocol.offline_execute(10)"
   ]
  },
  {
   "cell_type": "code",
   "execution_count": null,
   "metadata": {},
   "outputs": [],
   "source": [
    "x0 = torch.normal(0, 1, [10, 1, 4096]).cuda()\n",
    "x1 = x - x0\n",
    "n0.storage[f\"{protocol.name}:x0\"] = x0\n",
    "n1.storage[f\"{protocol.name}:x1\"] = x1\n"
   ]
  },
  {
   "cell_type": "code",
   "execution_count": null,
   "metadata": {},
   "outputs": [],
   "source": [
    "# Test computing QKV\n",
    "protocol.online_step_qkv()"
   ]
  },
  {
   "cell_type": "code",
   "execution_count": null,
   "metadata": {},
   "outputs": [],
   "source": [
    "qkv_computed = n0.storage[f\"{protocol.name}:h0\"] + n1.storage[f\"{protocol.name}:h1\"]\n",
    "print(f\"QKV error: {relative_error(qkv_computed, h_qkv):.5f}\")"
   ]
  },
  {
   "cell_type": "code",
   "execution_count": null,
   "metadata": {},
   "outputs": [],
   "source": [
    "# Test computing dot-product\n",
    "protocol.online_step_dot_product()\n"
   ]
  },
  {
   "cell_type": "code",
   "execution_count": null,
   "metadata": {},
   "outputs": [],
   "source": [
    "computed_scores = n0.storage[f\"{protocol.name}:s0\"] + n1.storage[f\"{protocol.name}:s1\"]\n",
    "print(f\"Scores error: {relative_error(computed_scores, scores):.5f}\")"
   ]
  },
  {
   "cell_type": "code",
   "execution_count": null,
   "metadata": {},
   "outputs": [],
   "source": [
    "# Test computing softmax scores\n",
    "protocol.online_step_softmax()"
   ]
  },
  {
   "cell_type": "code",
   "execution_count": null,
   "metadata": {},
   "outputs": [],
   "source": [
    "computed_softmax_scores = n0.storage[f\"{protocol.name}:s0\"] + n1.storage[f\"{protocol.name}:s1\"]\n",
    "print(f\"Softmax Scores error: {relative_error(computed_softmax_scores, softmax_scores):.5f}\")"
   ]
  },
  {
   "cell_type": "code",
   "execution_count": null,
   "metadata": {},
   "outputs": [],
   "source": [
    "# Test compute weighted values\n",
    "protocol.online_step_weighted_v()"
   ]
  },
  {
   "cell_type": "code",
   "execution_count": null,
   "metadata": {},
   "outputs": [],
   "source": [
    "computed_v = n0.storage[f\"{protocol.name}:h0\"] + n1.storage[f\"{protocol.name}:h1\"]\n",
    "print(f\"Weighted V error: {relative_error(computed_v, weighted_v):.5f}\")"
   ]
  },
  {
   "cell_type": "code",
   "execution_count": null,
   "metadata": {},
   "outputs": [],
   "source": [
    "protocol.online_step_attn_out()"
   ]
  },
  {
   "cell_type": "code",
   "execution_count": null,
   "metadata": {},
   "outputs": [],
   "source": [
    "computed_attn_out = n0.storage[f\"{protocol.name}:z0\"] + n1.storage[f\"{protocol.name}:z1\"]\n",
    "print(f\"Attn Out error: {relative_error(computed_attn_out, attn_out):.5f}\")"
   ]
  },
  {
   "cell_type": "code",
   "execution_count": null,
   "metadata": {},
   "outputs": [],
   "source": [
    "communication.comm_history"
   ]
  },
  {
   "cell_type": "code",
   "execution_count": null,
   "metadata": {},
   "outputs": [],
   "source": []
  }
 ],
 "metadata": {
  "kernelspec": {
   "display_name": "llm",
   "language": "python",
   "name": "python3"
  },
  "language_info": {
   "codemirror_mode": {
    "name": "ipython",
    "version": 3
   },
   "file_extension": ".py",
   "mimetype": "text/x-python",
   "name": "python",
   "nbconvert_exporter": "python",
   "pygments_lexer": "ipython3",
   "version": "3.10.14"
  }
 },
 "nbformat": 4,
 "nbformat_minor": 2
}
