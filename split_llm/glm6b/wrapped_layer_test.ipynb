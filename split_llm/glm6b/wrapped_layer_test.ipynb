{
 "cells": [
  {
   "cell_type": "code",
   "execution_count": 1,
   "metadata": {},
   "outputs": [
    {
     "name": "stderr",
     "output_type": "stream",
     "text": [
      "/home/zf/anaconda3/envs/llm/lib/python3.10/site-packages/tqdm/auto.py:21: TqdmWarning: IProgress not found. Please update jupyter and ipywidgets. See https://ipywidgets.readthedocs.io/en/stable/user_install.html\n",
      "  from .autonotebook import tqdm as notebook_tqdm\n",
      "Loading checkpoint shards: 100%|██████████| 8/8 [00:15<00:00,  1.89s/it]\n"
     ]
    }
   ],
   "source": [
    "from llm_bases.chatglm6b import ChatGML6B\n",
    "glm = ChatGML6B()"
   ]
  },
  {
   "cell_type": "code",
   "execution_count": 55,
   "metadata": {},
   "outputs": [],
   "source": [
    "import sys\n",
    "del sys.modules[\"split_llm.glm6b.wrapped_layer\"]"
   ]
  },
  {
   "cell_type": "code",
   "execution_count": 56,
   "metadata": {},
   "outputs": [],
   "source": [
    "from split_llm.glm6b.wrapped_layer import Attention_GLM_Wrapped, FeedForward_GLM_Wrapped, copy_attantion, copy_feedforward"
   ]
  },
  {
   "cell_type": "code",
   "execution_count": 57,
   "metadata": {},
   "outputs": [],
   "source": [
    "transformer_layer = glm.condgen.transformer.layers[0].float()\n",
    "attn_wrapped = Attention_GLM_Wrapped(4096, 32, 0)\n",
    "feedforward_wrapped = FeedForward_GLM_Wrapped(4096, 32, 0)\n",
    "copy_attantion(transformer_layer, attn_wrapped)\n",
    "copy_feedforward(transformer_layer, None, feedforward_wrapped)"
   ]
  },
  {
   "cell_type": "code",
   "execution_count": 58,
   "metadata": {},
   "outputs": [],
   "source": [
    "import torch\n",
    "from split_llm.glm6b.utils import generate_attention_mask, generate_position_ids"
   ]
  },
  {
   "cell_type": "code",
   "execution_count": 59,
   "metadata": {},
   "outputs": [],
   "source": [
    "xs = torch.rand([10, 1, 4096]).to(\"cuda:1\")\n",
    "transformer_layer.to(\"cuda:1\")\n",
    "attn_wrapped.to(\"cuda:1\")\n",
    "feedforward_wrapped.to(\"cuda:1\")\n",
    "position_ids = generate_position_ids(10, 10).to(\"cuda:1\")\n",
    "attention_mask = generate_attention_mask(10, 10).to(\"cuda:1\")"
   ]
  },
  {
   "cell_type": "code",
   "execution_count": 63,
   "metadata": {},
   "outputs": [
    {
     "name": "stdout",
     "output_type": "stream",
     "text": [
      "torch.Size([10, 1, 4096])\n",
      "tensor([[[ -5.0948, -11.7365,  11.4381,  ...,  -4.1215,  -9.7167, -11.9493]],\n",
      "\n",
      "        [[  0.9475,  17.7879,   8.4281,  ..., -12.0736,  -2.7919,  14.0786]],\n",
      "\n",
      "        [[ -7.0398,  -9.1274,   9.5206,  ...,   1.8684,  -2.1848,  -1.1104]],\n",
      "\n",
      "        ...,\n",
      "\n",
      "        [[ -6.6490,  -4.1403,  -2.4016,  ..., -11.8345, -11.4994,  -1.1972]],\n",
      "\n",
      "        [[  7.4000,   7.5975,   1.6621,  ...,  -6.7609,  -0.8396,  -4.7317]],\n",
      "\n",
      "        [[ -6.2023,   1.8287,   7.2340,  ..., -14.0230,  -8.8436,  -5.2539]]],\n",
      "       device='cuda:1')\n"
     ]
    }
   ],
   "source": [
    "output_raw = transformer_layer(xs, position_ids, attention_mask, 0)[0]\n",
    "print(output_raw.shape)\n",
    "print(output_raw)"
   ]
  },
  {
   "cell_type": "code",
   "execution_count": 64,
   "metadata": {},
   "outputs": [],
   "source": [
    "# Compute the output by wrapped layers\n",
    "xs = transformer_layer.input_layernorm(xs)\n",
    "attn_out = attn_wrapped(xs, position_ids)\n",
    "attn_out += (2 * 28) ** 0.5 * xs\n",
    "output_wrapped = feedforward_wrapped(attn_out)\n"
   ]
  },
  {
   "cell_type": "code",
   "execution_count": 62,
   "metadata": {},
   "outputs": [
    {
     "name": "stdout",
     "output_type": "stream",
     "text": [
      "torch.Size([10, 1, 4096])\n",
      "tensor([[[ -5.0572, -12.3509,  11.0530,  ...,  -3.7901,  -9.0527, -11.8540]],\n",
      "\n",
      "        [[  1.5295,  17.7705,   8.5445,  ..., -13.2526,  -3.0623,  13.9441]],\n",
      "\n",
      "        [[ -6.7168,  -9.9631,   9.4791,  ...,   1.2421,  -2.4624,  -1.1486]],\n",
      "\n",
      "        ...,\n",
      "\n",
      "        [[ -6.1324,  -4.0719,  -3.2749,  ..., -11.7572, -10.7988,  -0.8559]],\n",
      "\n",
      "        [[  7.9249,   7.5566,   1.1843,  ...,  -6.7077,  -1.2108,  -4.6363]],\n",
      "\n",
      "        [[ -6.5769,   2.6066,   6.5732,  ..., -14.8396,  -9.0565,  -5.1362]]],\n",
      "       device='cuda:1', grad_fn=<AddBackward0>)\n"
     ]
    }
   ],
   "source": [
    "print(output_wrapped.shape)\n",
    "print(output_wrapped)"
   ]
  },
  {
   "cell_type": "code",
   "execution_count": 37,
   "metadata": {},
   "outputs": [
    {
     "data": {
      "text/plain": [
       "tensor([[[[False, False, False, False, False, False, False, False, False, False],\n",
       "          [False, False, False, False, False, False, False, False, False, False],\n",
       "          [False, False, False, False, False, False, False, False, False, False],\n",
       "          [False, False, False, False, False, False, False, False, False, False],\n",
       "          [False, False, False, False, False, False, False, False, False, False],\n",
       "          [False, False, False, False, False, False, False, False, False, False],\n",
       "          [False, False, False, False, False, False, False, False, False, False],\n",
       "          [False, False, False, False, False, False, False, False, False, False],\n",
       "          [False, False, False, False, False, False, False, False, False, False],\n",
       "          [False, False, False, False, False, False, False, False, False, False]]]],\n",
       "       device='cuda:1')"
      ]
     },
     "execution_count": 37,
     "metadata": {},
     "output_type": "execute_result"
    }
   ],
   "source": [
    "attention_mask"
   ]
  },
  {
   "cell_type": "code",
   "execution_count": null,
   "metadata": {},
   "outputs": [],
   "source": []
  }
 ],
 "metadata": {
  "kernelspec": {
   "display_name": "llm",
   "language": "python",
   "name": "python3"
  },
  "language_info": {
   "codemirror_mode": {
    "name": "ipython",
    "version": 3
   },
   "file_extension": ".py",
   "mimetype": "text/x-python",
   "name": "python",
   "nbconvert_exporter": "python",
   "pygments_lexer": "ipython3",
   "version": "3.10.13"
  }
 },
 "nbformat": 4,
 "nbformat_minor": 2
}
