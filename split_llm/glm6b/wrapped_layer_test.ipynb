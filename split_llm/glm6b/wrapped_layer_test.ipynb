{
 "cells": [
  {
   "cell_type": "code",
   "execution_count": 1,
   "metadata": {},
   "outputs": [
    {
     "name": "stderr",
     "output_type": "stream",
     "text": [
      "/home/zf/anaconda3/envs/llm/lib/python3.10/site-packages/tqdm/auto.py:21: TqdmWarning: IProgress not found. Please update jupyter and ipywidgets. See https://ipywidgets.readthedocs.io/en/stable/user_install.html\n",
      "  from .autonotebook import tqdm as notebook_tqdm\n",
      "Loading checkpoint shards: 100%|██████████| 8/8 [00:16<00:00,  2.09s/it]\n"
     ]
    }
   ],
   "source": [
    "from llm_bases.chatglm6b import ChatGML6B\n",
    "glm = ChatGML6B()"
   ]
  },
  {
   "cell_type": "code",
   "execution_count": 25,
   "metadata": {},
   "outputs": [],
   "source": [
    "import sys\n",
    "del sys.modules[\"split_llm.glm6b.wrapped_layer\"]"
   ]
  },
  {
   "cell_type": "code",
   "execution_count": 26,
   "metadata": {},
   "outputs": [],
   "source": [
    "from split_llm.glm6b.wrapped_layer import Attention_GLM_Wrapped, FeedForward_GLM_Wrapped, copy_attantion, copy_feedforward"
   ]
  },
  {
   "cell_type": "code",
   "execution_count": 27,
   "metadata": {},
   "outputs": [],
   "source": [
    "transformer_layer = glm.condgen.transformer.layers[0].float()\n",
    "attn_wrapped = Attention_GLM_Wrapped(4096, 32, 0)\n",
    "feedforward_wrapped = FeedForward_GLM_Wrapped(4096, 32, 0)\n",
    "copy_attantion(transformer_layer, attn_wrapped)\n",
    "copy_feedforward(transformer_layer, None, feedforward_wrapped)"
   ]
  },
  {
   "cell_type": "code",
   "execution_count": 28,
   "metadata": {},
   "outputs": [],
   "source": [
    "import torch\n",
    "from split_llm.glm6b.utils import generate_attention_mask, generate_position_ids"
   ]
  },
  {
   "cell_type": "code",
   "execution_count": 29,
   "metadata": {},
   "outputs": [],
   "source": [
    "xs = torch.rand([10, 1, 4096]).to(\"cuda:1\")\n",
    "transformer_layer.to(\"cuda:1\")\n",
    "attn_wrapped.to(\"cuda:1\")\n",
    "feedforward_wrapped.to(\"cuda:1\")\n",
    "position_ids = generate_position_ids(10, 10).to(\"cuda:1\")\n",
    "attention_mask = generate_attention_mask(10, 10).to(\"cuda:1\")"
   ]
  },
  {
   "cell_type": "code",
   "execution_count": 30,
   "metadata": {},
   "outputs": [
    {
     "name": "stdout",
     "output_type": "stream",
     "text": [
      "Attention out: tensor([[[ 0.5028, -0.6945,  0.2699,  ..., -0.1979, -0.2703,  0.2806]],\n",
      "\n",
      "        [[ 0.3037, -0.2226, -0.0655,  ..., -0.3376, -0.0304,  0.0626]],\n",
      "\n",
      "        [[ 0.3981, -0.7152,  0.5960,  ..., -0.2712, -0.1069,  0.0912]],\n",
      "\n",
      "        ...,\n",
      "\n",
      "        [[ 0.2937, -0.5033,  0.5714,  ..., -0.1932, -0.3533,  0.4047]],\n",
      "\n",
      "        [[ 0.2462, -0.4652,  0.0992,  ..., -0.3007, -0.2844,  0.2734]],\n",
      "\n",
      "        [[ 0.3354, -0.2581, -0.1448,  ..., -0.0564,  0.0175,  0.2254]]],\n",
      "       device='cuda:1') torch.Size([10, 1, 4096])\n",
      "torch.Size([10, 1, 4096])\n",
      "tensor([[[  2.0890,  12.7236,   8.3877,  ...,   1.5867,  -0.5379,  -2.8155]],\n",
      "\n",
      "        [[ -9.3588,   9.4922,  -8.6534,  ..., -11.6280,  -7.5904,  -6.9502]],\n",
      "\n",
      "        [[ -5.7781,   7.6731,  -8.7551,  ...,  -1.0469, -11.9426,   5.5981]],\n",
      "\n",
      "        ...,\n",
      "\n",
      "        [[ -4.2457,  12.9362, -10.2315,  ...,   7.5768,  -9.7794,   0.3820]],\n",
      "\n",
      "        [[  1.0435,  12.2478,   1.9428,  ...,  -3.5932,  -4.4942, -10.6123]],\n",
      "\n",
      "        [[ 12.8683,  -5.8997, -13.5504,  ...,   3.8918,  -0.0954,  -5.0703]]],\n",
      "       device='cuda:1')\n"
     ]
    }
   ],
   "source": [
    "output_raw = transformer_layer(xs, position_ids, attention_mask, 0)[0]\n",
    "print(output_raw.shape)\n",
    "print(output_raw)"
   ]
  },
  {
   "cell_type": "code",
   "execution_count": 33,
   "metadata": {},
   "outputs": [
    {
     "name": "stdout",
     "output_type": "stream",
     "text": [
      "Attnetion_out: tensor([[[ 0.5028, -0.6945,  0.2699,  ..., -0.1979, -0.2703,  0.2806]],\n",
      "\n",
      "        [[ 0.3037, -0.2226, -0.0655,  ..., -0.3376, -0.0305,  0.0626]],\n",
      "\n",
      "        [[ 0.3981, -0.7153,  0.5961,  ..., -0.2713, -0.1069,  0.0912]],\n",
      "\n",
      "        ...,\n",
      "\n",
      "        [[ 0.2936, -0.5032,  0.5714,  ..., -0.1932, -0.3533,  0.4046]],\n",
      "\n",
      "        [[ 0.2462, -0.4652,  0.0991,  ..., -0.3007, -0.2844,  0.2734]],\n",
      "\n",
      "        [[ 0.3354, -0.2582, -0.1448,  ..., -0.0562,  0.0176,  0.2253]]],\n",
      "       device='cuda:1', grad_fn=<ViewBackward0>)\n"
     ]
    }
   ],
   "source": [
    "# Compute the output by wrapped layers\n",
    "xs_normalized = transformer_layer.input_layernorm(xs)\n",
    "attn_out_raw = attn_wrapped(xs_normalized, position_ids)\n",
    "attn_out = attn_out_raw + (2 * 28) ** 0.5 * xs_normalized\n",
    "output_wrapped = feedforward_wrapped(attn_out)\n"
   ]
  },
  {
   "cell_type": "code",
   "execution_count": 34,
   "metadata": {},
   "outputs": [
    {
     "name": "stdout",
     "output_type": "stream",
     "text": [
      "torch.Size([10, 1, 4096])\n",
      "tensor([[[  2.0893,  12.7238,   8.3878,  ...,   1.5862,  -0.5378,  -2.8158]],\n",
      "\n",
      "        [[ -9.3590,   9.4928,  -8.6537,  ..., -11.6288,  -7.5909,  -6.9505]],\n",
      "\n",
      "        [[ -5.7778,   7.6735,  -8.7553,  ...,  -1.0473, -11.9425,   5.5979]],\n",
      "\n",
      "        ...,\n",
      "\n",
      "        [[ -4.2454,  12.9363, -10.2317,  ...,   7.5766,  -9.7795,   0.3815]],\n",
      "\n",
      "        [[  1.0439,  12.2479,   1.9431,  ...,  -3.5935,  -4.4943, -10.6123]],\n",
      "\n",
      "        [[ 12.8685,  -5.8996, -13.5512,  ...,   3.8911,  -0.0961,  -5.0699]]],\n",
      "       device='cuda:1', grad_fn=<AddBackward0>)\n"
     ]
    }
   ],
   "source": [
    "print(output_wrapped.shape)\n",
    "print(output_wrapped)"
   ]
  },
  {
   "cell_type": "code",
   "execution_count": 41,
   "metadata": {},
   "outputs": [
    {
     "name": "stdout",
     "output_type": "stream",
     "text": [
      "Attention input L2 norm 7.402734913711181\n",
      "Attention output L2 norm 0.4633835256099701\n"
     ]
    }
   ],
   "source": [
    "print(\"Attention input L2 norm\", torch.sqrt(torch.mean(torch.square(xs_normalized))).item() * (2 * 28) ** 0.5)\n",
    "print(\"Attention output L2 norm\", torch.sqrt(torch.mean(torch.square(attn_out_raw))).item())"
   ]
  },
  {
   "cell_type": "markdown",
   "metadata": {},
   "source": [
    "It seems that the residual connected attention input has a larger scale ($\\approx 20\\times$) than the attention ouptut, which means that the adversary could be easy to distinguish between them?\n",
    "\n",
    "Specifically, suppose the attention is to be protected. \n",
    "\n",
    "Each time we feed $H, H'$ to attention but only use the true $H$ to produce the output $a$, then it could be easy to distinguish between $(H, H + a)$ and $(H, H' + a)$..."
   ]
  },
  {
   "cell_type": "markdown",
   "metadata": {},
   "source": []
  }
 ],
 "metadata": {
  "kernelspec": {
   "display_name": "llm",
   "language": "python",
   "name": "python3"
  },
  "language_info": {
   "codemirror_mode": {
    "name": "ipython",
    "version": 3
   },
   "file_extension": ".py",
   "mimetype": "text/x-python",
   "name": "python",
   "nbconvert_exporter": "python",
   "pygments_lexer": "ipython3",
   "version": "3.10.13"
  }
 },
 "nbformat": 4,
 "nbformat_minor": 2
}
